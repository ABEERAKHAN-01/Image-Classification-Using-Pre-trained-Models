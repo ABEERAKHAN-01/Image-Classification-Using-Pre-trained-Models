{
  "nbformat": 4,
  "nbformat_minor": 0,
  "metadata": {
    "colab": {
      "provenance": [],
      "include_colab_link": true
    },
    "kernelspec": {
      "name": "python3",
      "display_name": "Python 3"
    },
    "language_info": {
      "name": "python"
    }
  },
  "cells": [
    {
      "cell_type": "markdown",
      "metadata": {
        "id": "view-in-github",
        "colab_type": "text"
      },
      "source": [
        "<a href=\"https://colab.research.google.com/github/ABEERAKHAN-01/Image-Classification-Using-Pre-trained-Models/blob/main/IMAGE_PREDICTION_BY_MOBILENETV2.ipynb\" target=\"_parent\"><img src=\"https://colab.research.google.com/assets/colab-badge.svg\" alt=\"Open In Colab\"/></a>"
      ]
    },
    {
      "cell_type": "code",
      "source": [
        "!pip install gradio\n"
      ],
      "metadata": {
        "id": "qnrWwOr4N5Cb"
      },
      "execution_count": null,
      "outputs": []
    },
    {
      "cell_type": "code",
      "source": [
        "import gradio as gr\n"
      ],
      "metadata": {
        "id": "s-T_cMPON8VJ"
      },
      "execution_count": null,
      "outputs": []
    },
    {
      "cell_type": "code",
      "source": [
        "import numpy as np\n",
        "import matplotlib.pyplot as plt\n",
        "from tensorflow.keras.applications import MobileNetV2\n",
        "from tensorflow.keras.applications.mobilenet_v2 import preprocess_input, decode_predictions\n",
        "from tensorflow.keras.preprocessing import image\n",
        "import os\n",
        "\n",
        "# Load model once\n",
        "model = MobileNetV2(weights=\"imagenet\")\n",
        "\n",
        "def load_and_preprocess(img_path, target_size=(224, 224)):\n",
        "    img = image.load_img(img_path, target_size=target_size)\n",
        "    img_array = image.img_to_array(img)\n",
        "    img_array = np.expand_dims(img_array, axis=0)\n",
        "    img_array = preprocess_input(img_array)\n",
        "    return img_array\n",
        "\n",
        "def predict_image(img):\n",
        "    \"\"\"\n",
        "    img: PIL Image uploaded via Gradio\n",
        "    \"\"\"\n",
        "    # Save uploaded image temporarily\n",
        "    img_path = \"temp_img.jpg\"\n",
        "    img.save(img_path)\n",
        "\n",
        "    # Preprocess\n",
        "    processed_img = load_and_preprocess(img_path)\n",
        "\n",
        "    # Predict\n",
        "    preds = model.predict(processed_img)\n",
        "    decoded_preds = decode_predictions(preds, top=3)[0]\n",
        "\n",
        "    # Format top-3 predictions\n",
        "    results = {decoded_preds[i][1]: float(decoded_preds[i][2]*100) for i in range(3)}\n",
        "\n",
        "    return results\n"
      ],
      "metadata": {
        "id": "GRDqeYANN_1_"
      },
      "execution_count": null,
      "outputs": []
    },
    {
      "cell_type": "code",
      "source": [
        "iface = gr.Interface(\n",
        "    fn=predict_image,\n",
        "    inputs=gr.Image(type=\"pil\"),\n",
        "    outputs=gr.Label(num_top_classes=3),\n",
        "    title=\"Image Classification with MobileNetV2\",\n",
        "    description=\"Upload an image of an animal/object and MobileNetV2 will predict it.\"\n",
        ")\n"
      ],
      "metadata": {
        "id": "pU34JI1lOIrg"
      },
      "execution_count": null,
      "outputs": []
    },
    {
      "cell_type": "code",
      "source": [
        "iface.launch()\n"
      ],
      "metadata": {
        "id": "jEJ78P_YOLSx"
      },
      "execution_count": null,
      "outputs": []
    }
  ]
}